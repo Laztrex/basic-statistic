{
 "cells": [
  {
   "cell_type": "code",
   "execution_count": null,
   "metadata": {},
   "outputs": [],
   "source": [
    "import os\n",
    "import zipfile\n",
    "\n",
    "try:\n",
    "    from configs import settings\n",
    "except ImportError:\n",
    "    exit('Do cp settings.py.default settings.py and set login!')"
   ]
  },
  {
   "cell_type": "code",
   "execution_count": null,
   "metadata": {},
   "outputs": [],
   "source": [
    "os.environ['KAGGLE_USERNAME'] = settings.KAGGLE_USERNAME\n",
    "os.environ['KAGGLE_KEY'] = settings.KAGGLE_KEY"
   ]
  },
  {
   "cell_type": "code",
   "execution_count": null,
   "metadata": {
    "pycharm": {
     "name": "#%%\n"
    }
   },
   "outputs": [],
   "source": [
    "# !pip install kaggle"
   ]
  },
  {
   "cell_type": "code",
   "execution_count": null,
   "metadata": {
    "pycharm": {
     "name": "#%%\n"
    }
   },
   "outputs": [],
   "source": [
    "dir_download = \"data\"\n",
    "\n",
    "os.makedirs(dir_download, exist_ok=True)\n",
    "!cd $dir_download && kaggle competitions download -c contradictory-my-dear-watson\n",
    "\n",
    "\n",
    "file_zip = os.path.join(dir_download, os.listdir(dir_download)[0])\n",
    "with zipfile.ZipFile(file_zip) as file:\n",
    "    file.extractall(dir_download)\n",
    "os.remove(file_zip)"
   ]
  },
  {
   "cell_type": "markdown",
   "metadata": {
    "pycharm": {
     "name": "#%% md\n"
    }
   },
   "source": [
    "### Files\n",
    "* *train.csv*: This file contains the ID, premise, hypothesis, and label, as well as the language of the text and its two-letter abbreviation\n",
    "* *test.csv*: This file contains the ID, premise, hypothesis, language, and language abbreviation, without labels.\n",
    "* *sample_submission.csv*: This is a sample submission file in the correct format: id: a unique identifier for each sample label: the classification of the relationship between the premise and hypothesis (0 for entailment, 1 for neutral, 2 for contradiction)"
   ]
  },
  {
   "cell_type": "code",
   "execution_count": null,
   "metadata": {},
   "outputs": [],
   "source": []
  }
 ],
 "metadata": {
  "kernelspec": {
   "display_name": "Python 3",
   "language": "python",
   "name": "python3"
  },
  "language_info": {
   "codemirror_mode": {
    "name": "ipython",
    "version": 3
   },
   "file_extension": ".py",
   "mimetype": "text/x-python",
   "name": "python",
   "nbconvert_exporter": "python",
   "pygments_lexer": "ipython3",
   "version": "3.7.5"
  }
 },
 "nbformat": 4,
 "nbformat_minor": 1
}